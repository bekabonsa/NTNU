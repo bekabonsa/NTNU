{
 "cells": [
  {
   "cell_type": "code",
   "execution_count": 1,
   "metadata": {},
   "outputs": [],
   "source": [
    "import utils\n",
    "import skimage\n",
    "import skimage.morphology\n",
    "import numpy as np\n",
    "import pathlib\n",
    "from skimage.morphology import binary_erosion\n"
   ]
  },
  {
   "cell_type": "code",
   "execution_count": null,
   "metadata": {},
   "outputs": [],
   "source": [
    "def distance_transform(im: np.ndarray) -> np.ndarray:\n",
    "    \"\"\"\n",
    "    A function that computes the distance to the closest boundary pixel using an erosion-based approach.\n",
    "    \n",
    "    Args:\n",
    "        im (np.ndarray): Binary image of shape (H, W) with boolean values (dtype=bool)\n",
    "        \n",
    "    Returns:\n",
    "        np.ndarray: Distance transform image of shape (H, W) with integer values (dtype=np.int32)\n",
    "    \"\"\"\n",
    "    # Ensure the input is a binary boolean image\n",
    "    assert im.dtype == bool\n",
    "    \n",
    "    # Structuring element for 8-connectivity (chessboard distance)\n",
    "    structuring_element = np.array([\n",
    "        [1, 1, 1],\n",
    "        [1, 1, 1],\n",
    "        [1, 1, 1]\n",
    "    ], dtype=bool)\n",
    "    \n",
    "    # Initialize the result array with zeros, which will hold the distance values\n",
    "    result = np.zeros_like(im, dtype=np.int32)\n",
    "    \n",
    "    # Copy of the input image to perform erosion iteratively\n",
    "    eroded_im = im.copy()\n",
    "    \n",
    "    # Initialize the distance counter\n",
    "    distance = 0\n",
    "    \n",
    "    # Iterate until all foreground pixels are eroded away\n",
    "    while np.any(eroded_im):  # Continue as long as there are foreground pixels\n",
    "        # Increase the distance for each iteration\n",
    "        distance += 1\n",
    "        \n",
    "        # Apply erosion\n",
    "        eroded_im = binary_erosion(eroded_im, structuring_element)\n",
    "        \n",
    "\n",
    "        # Update result with the current distance for pixels that are still in the foreground\n",
    "        result[eroded_im] = distance\n",
    "    \n",
    "    return result"
   ]
  },
  {
   "cell_type": "code",
   "execution_count": 3,
   "metadata": {},
   "outputs": [
    {
     "name": "stdout",
     "output_type": "stream",
     "text": [
      "Reading image: image_processed\\noisy-filtered.png\n",
      "Saving image to: image_processed\\noisy-distance.png\n"
     ]
    },
    {
     "name": "stderr",
     "output_type": "stream",
     "text": [
      "c:\\Users\\Bex\\OneDrive - NTNU\\NTNU\\4 år\\Visual dataprocessing\\Assignment 6_ip\\utils.py:40: UserWarning: Image min/max is outside the range [0.0, 1.0]. Squashing the image to this range. (Can be safely ignored)\n",
      "  warnings.warn(\"Image min/max is outside the range [0.0, 1.0]. Squashing the image to this range. (Can be safely ignored)\")\n"
     ]
    }
   ],
   "source": [
    "if __name__ == \"__main__\":\n",
    "    im = utils.read_image(\"noisy-filtered.png\", image_folder=pathlib.Path(\"image_processed\")) # <-- This image is created in noise_filtering\n",
    "    binary_image = (im != 0)\n",
    "    distance = distance_transform(binary_image)\n",
    "\n",
    "    assert im.shape == distance.shape, \"Expected image shape ({}) to be same as resulting image shape ({})\".format(\n",
    "            im.shape, distance.shape)\n",
    "    assert distance.dtype == np.int32, \"Expected resulting image dtype to be np.int32. Was: {}\".format(\n",
    "            distance.dtype)\n",
    "\n",
    "    distance = utils.to_uint8(distance)\n",
    "    utils.save_im(\"noisy-distance.png\", distance)\n"
   ]
  }
 ],
 "metadata": {
  "kernelspec": {
   "display_name": "Python 3",
   "language": "python",
   "name": "python3"
  },
  "language_info": {
   "codemirror_mode": {
    "name": "ipython",
    "version": 3
   },
   "file_extension": ".py",
   "mimetype": "text/x-python",
   "name": "python",
   "nbconvert_exporter": "python",
   "pygments_lexer": "ipython3",
   "version": "3.12.4"
  }
 },
 "nbformat": 4,
 "nbformat_minor": 2
}
