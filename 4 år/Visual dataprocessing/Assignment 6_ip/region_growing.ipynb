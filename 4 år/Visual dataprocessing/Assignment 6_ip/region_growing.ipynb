{
 "cells": [
  {
   "cell_type": "code",
   "execution_count": 1,
   "metadata": {},
   "outputs": [],
   "source": [
    "import utils\n",
    "import numpy as np"
   ]
  },
  {
   "cell_type": "code",
   "execution_count": 2,
   "metadata": {},
   "outputs": [],
   "source": [
    "def region_growing(im: np.ndarray, seed_points: list, T: int) -> np.ndarray:\n",
    "    \"\"\"\n",
    "    A region growing algorithm that segments an image into 1 or 0 (True or False).\n",
    "    Uses an 8-connected Moore neighborhood and a threshold as the homogeneity criterion.\n",
    "    \n",
    "    Args:\n",
    "        im (np.ndarray): Grayscale image in range [0, 255] (dtype=np.uint8)\n",
    "        seed_points (list): List of [row, col] seed points\n",
    "        T (int): Intensity threshold for homogeneity\n",
    "    \n",
    "    Returns:\n",
    "        np.ndarray: Boolean array indicating segmented regions\n",
    "    \"\"\"\n",
    "    assert im.dtype == np.uint8\n",
    "    \n",
    "    # Step 1: Initialize the segmented mask as a boolean array of the same shape as `im`\n",
    "    segmented = np.zeros_like(im, dtype=bool)\n",
    "    im = im.astype(float)  # Convert image to float for intensity calculations\n",
    "    \n",
    "    # Step 2: Define the Moore neighborhood (8-connected neighbors)\n",
    "    # The neighbors relative to the current pixel position\n",
    "    neighbors = [(-1, -1), (-1, 0), (-1, 1),\n",
    "                 (0, -1),         (0, 1),\n",
    "                 (1, -1), (1, 0), (1, 1)]\n",
    "    \n",
    "    # Step 3: Iterate over each seed point to grow regions\n",
    "    for row, col in seed_points:\n",
    "        # Initialize a queue with the seed point\n",
    "        queue = [(row, col)]\n",
    "        # Store the intensity of the seed point to compare with neighbors\n",
    "        seed_intensity = im[row, col]\n",
    "        \n",
    "        # Set the seed point as part of the segmented region\n",
    "        segmented[row, col] = True\n",
    "        \n",
    "        # Step 4: Region growing using a queue for candidate pixels\n",
    "        while queue:\n",
    "            current_row, current_col = queue.pop(0)\n",
    "            \n",
    "            # Check each of the 8 neighbors\n",
    "            for d_row, d_col in neighbors:\n",
    "                neighbor_row, neighbor_col = current_row + d_row, current_col + d_col\n",
    "                \n",
    "                # Check if the neighbor is within image bounds\n",
    "                if (0 <= neighbor_row < im.shape[0]) and (0 <= neighbor_col < im.shape[1]):\n",
    "                    # If neighbor has not been segmented and meets the threshold condition\n",
    "                    if not segmented[neighbor_row, neighbor_col]:\n",
    "                        intensity_diff = abs(im[neighbor_row, neighbor_col] - seed_intensity)\n",
    "                        if intensity_diff <= T:\n",
    "                            # Add neighbor to the region and to the queue\n",
    "                            segmented[neighbor_row, neighbor_col] = True\n",
    "                            queue.append((neighbor_row, neighbor_col))\n",
    "    \n",
    "    return segmented"
   ]
  },
  {
   "cell_type": "code",
   "execution_count": 3,
   "metadata": {},
   "outputs": [
    {
     "name": "stdout",
     "output_type": "stream",
     "text": [
      "Reading image: images\\defective-weld.png\n",
      "Saving image to: image_processed\\defective-weld-segmented.png\n"
     ]
    },
    {
     "name": "stderr",
     "output_type": "stream",
     "text": [
      "c:\\Users\\Bex\\OneDrive - NTNU\\NTNU\\4 år\\Visual dataprocessing\\Assignment 6_ip\\utils.py:56: UserWarning: C:\\Users\\Bex\\OneDrive - NTNU\\NTNU\\4 år\\Visual dataprocessing\\Assignment 6_ip\\image_processed\\defective-weld-segmented.png is a low contrast image\n",
      "  skimage.io.imsave(impath, im)\n"
     ]
    }
   ],
   "source": [
    "if __name__ == \"__main__\":\n",
    "    # DO NOT CHANGE\n",
    "    im = utils.read_image(\"defective-weld.png\")\n",
    "\n",
    "    seed_points = [ # (row, column)\n",
    "        [254, 138], # Seed point 1\n",
    "        [253, 296], # Seed point 2\n",
    "        [233, 436], # Seed point 3\n",
    "        [232, 417], # Seed point 4\n",
    "    ]\n",
    "    intensity_threshold = 50\n",
    "    segmented_image = region_growing(im, seed_points, intensity_threshold)\n",
    "\n",
    "    assert im.shape == segmented_image.shape, \"Expected image shape ({}) to be same as thresholded image shape ({})\".format(\n",
    "        im.shape, segmented_image.shape)\n",
    "    assert segmented_image.dtype == bool, \"Expected thresholded image dtype to be bool. Was: {}\".format(\n",
    "            segmented_image.dtype)\n",
    "\n",
    "    segmented_image = utils.to_uint8(segmented_image)\n",
    "    utils.save_im(\"defective-weld-segmented.png\", segmented_image)\n"
   ]
  }
 ],
 "metadata": {
  "kernelspec": {
   "display_name": "Python 3",
   "language": "python",
   "name": "python3"
  },
  "language_info": {
   "codemirror_mode": {
    "name": "ipython",
    "version": 3
   },
   "file_extension": ".py",
   "mimetype": "text/x-python",
   "name": "python",
   "nbconvert_exporter": "python",
   "pygments_lexer": "ipython3",
   "version": "3.12.4"
  }
 },
 "nbformat": 4,
 "nbformat_minor": 2
}
