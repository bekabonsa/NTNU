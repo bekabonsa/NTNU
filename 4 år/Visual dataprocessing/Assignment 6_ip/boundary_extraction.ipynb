{
 "cells": [
  {
   "cell_type": "code",
   "execution_count": 10,
   "metadata": {},
   "outputs": [],
   "source": [
    "import utils\n",
    "import skimage\n",
    "import skimage.morphology\n",
    "import numpy as np\n",
    "import skimage"
   ]
  },
  {
   "cell_type": "code",
   "execution_count": 11,
   "metadata": {},
   "outputs": [],
   "source": [
    "def extract_boundary(im: np.ndarray) -> np.ndarray:\n",
    "    \"\"\"\n",
    "    A function that extracts the inner boundary from a binary image.\n",
    "    \n",
    "    Args:\n",
    "        im (np.ndarray): Binary image of shape (H, W) with boolean values (dtype=bool)\n",
    "        \n",
    "    Returns:\n",
    "        np.ndarray: Binary image of shape (H, W) showing the boundary (dtype=bool)\n",
    "    \"\"\"\n",
    "\n",
    "    \n",
    "    # Define a 3x3 structuring element of all ones (for erosion)\n",
    "    structuring_element = np.ones((3, 3), dtype=bool)\n",
    "    \n",
    "    # Step 1: Erode the image\n",
    "    eroded_im = skimage.morphology.binary_erosion(im, structuring_element)\n",
    "    \n",
    "    # Step 2: Subtract the eroded image from the original image to get the boundary\n",
    "    boundary = im & ~eroded_im  # Logical AND with the negated eroded image\n",
    "    \n",
    "    return boundary"
   ]
  },
  {
   "cell_type": "code",
   "execution_count": 12,
   "metadata": {},
   "outputs": [
    {
     "name": "stdout",
     "output_type": "stream",
     "text": [
      "Reading image: images\\blood-vessels.png\n",
      "Saving image to: image_processed\\blood-vessels-boundary.png\n"
     ]
    }
   ],
   "source": [
    "if __name__ == \"__main__\":\n",
    "    im = utils.read_image(\"blood-vessels.png\")\n",
    "    binary_image = (im != 0)\n",
    "    boundary = extract_boundary(binary_image)\n",
    "\n",
    "    assert im.shape == boundary.shape, \"Expected image shape ({}) to be same as resulting image shape ({})\".format(\n",
    "            im.shape, boundary.shape)\n",
    "    assert boundary.dtype == bool, \"Expected resulting image dtype to be bool. Was: {}\".format(\n",
    "            boundary.dtype)\n",
    "\n",
    "    boundary = utils.to_uint8(boundary)\n",
    "    utils.save_im(\"blood-vessels-boundary.png\", boundary)\n"
   ]
  }
 ],
 "metadata": {
  "kernelspec": {
   "display_name": "Python 3",
   "language": "python",
   "name": "python3"
  },
  "language_info": {
   "codemirror_mode": {
    "name": "ipython",
    "version": 3
   },
   "file_extension": ".py",
   "mimetype": "text/x-python",
   "name": "python",
   "nbconvert_exporter": "python",
   "pygments_lexer": "ipython3",
   "version": "3.12.4"
  }
 },
 "nbformat": 4,
 "nbformat_minor": 2
}
