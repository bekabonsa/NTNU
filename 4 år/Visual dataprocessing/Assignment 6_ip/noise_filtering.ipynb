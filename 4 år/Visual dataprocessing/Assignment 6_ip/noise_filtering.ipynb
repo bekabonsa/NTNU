{
 "cells": [
  {
   "cell_type": "code",
   "execution_count": 43,
   "metadata": {},
   "outputs": [],
   "source": [
    "import utils\n",
    "import skimage\n",
    "import skimage.morphology\n",
    "import numpy as np\n",
    "from skimage.morphology import binary_dilation, binary_erosion, binary_closing, binary_opening, disk\n",
    "import numpy as np"
   ]
  },
  {
   "cell_type": "code",
   "execution_count": null,
   "metadata": {},
   "outputs": [],
   "source": [
    "from skimage.morphology import binary_dilation, binary_erosion, binary_closing, binary_opening, disk\n",
    "import numpy as np\n",
    "\n",
    "def remove_noise(im: np.ndarray) -> np.ndarray:\n",
    "    \"\"\"\n",
    "    Removes noise from a binary image using optimized morphological operations.\n",
    "    \n",
    "    Args:\n",
    "        im (np.ndarray): Binary image of shape (H, W) with boolean values (dtype=bool)\n",
    "        \n",
    "    Returns:\n",
    "        np.ndarray: Noise-removed binary image with dtype=bool\n",
    "    \"\"\"\n",
    "    \n",
    "    # Step 3: Closing to fill small holes within objects and smooth boundaries\n",
    "    closed_im = binary_closing(im, disk(6))\n",
    "\n",
    "\n",
    "    # Step 2: Opening to remove small noise elements\n",
    "    opened_im = binary_opening(closed_im, disk(9))  # Disk size 2 for more effective noise removal\n",
    "\n",
    "    return opened_im\n"
   ]
  },
  {
   "cell_type": "code",
   "execution_count": 45,
   "metadata": {},
   "outputs": [
    {
     "name": "stdout",
     "output_type": "stream",
     "text": [
      "Reading image: images\\noisy.png\n",
      "Saving image to: image_processed\\noisy-filtered.png\n"
     ]
    }
   ],
   "source": [
    "if __name__ == \"__main__\":\n",
    "    # DO NOT CHANGE\n",
    "    im = utils.read_image(\"noisy.png\")\n",
    "\n",
    "    binary_image = (im != 0)\n",
    "    noise_free_image = remove_noise(binary_image)\n",
    "\n",
    "    assert im.shape == noise_free_image.shape, \"Expected image shape ({}) to be same as resulting image shape ({})\".format(\n",
    "            im.shape, noise_free_image.shape)\n",
    "    assert noise_free_image.dtype == bool, \"Expected resulting image dtype to be bool. Was: {}\".format(\n",
    "            noise_free_image.dtype)\n",
    "\n",
    "    noise_free_image = utils.to_uint8(noise_free_image)\n",
    "    utils.save_im(\"noisy-filtered.png\", noise_free_image)\n"
   ]
  }
 ],
 "metadata": {
  "kernelspec": {
   "display_name": "Python 3",
   "language": "python",
   "name": "python3"
  },
  "language_info": {
   "codemirror_mode": {
    "name": "ipython",
    "version": 3
   },
   "file_extension": ".py",
   "mimetype": "text/x-python",
   "name": "python",
   "nbconvert_exporter": "python",
   "pygments_lexer": "ipython3",
   "version": "3.12.4"
  }
 },
 "nbformat": 4,
 "nbformat_minor": 2
}
