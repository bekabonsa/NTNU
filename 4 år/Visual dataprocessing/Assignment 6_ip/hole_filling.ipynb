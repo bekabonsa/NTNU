{
 "cells": [
  {
   "cell_type": "code",
   "execution_count": 1,
   "metadata": {},
   "outputs": [],
   "source": [
    "import utils\n",
    "import skimage\n",
    "import skimage.morphology\n",
    "import numpy as np\n",
    "import matplotlib.pyplot as plt\n",
    "from skimage import io\n",
    "import skimage"
   ]
  },
  {
   "cell_type": "code",
   "execution_count": null,
   "metadata": {},
   "outputs": [],
   "source": [
    "def fill_holes(im: np.ndarray, starting_points: list, num_iterations: int) -> np.ndarray:\n",
    "    \"\"\"\n",
    "    Fills holes in a binary image based on the given starting points.\n",
    "    \n",
    "    Args:\n",
    "        im (np.ndarray): Binary image of shape (H, W) with boolean values (dtype=bool)\n",
    "        starting_points (list): List of [row, col] starting points for hole filling\n",
    "        num_iterations (int): Number of iterations to apply the hole-filling algorithm\n",
    "        \n",
    "    Returns:\n",
    "        np.ndarray: Binary image with holes filled (dtype=bool)\n",
    "    \"\"\"\n",
    "    \n",
    "    # Complement of the image (Ic)\n",
    "    complement_im = ~im\n",
    "    \n",
    "    # Initialize X0 as a zero array of the same shape as the input image\n",
    "    Xk = np.zeros_like(im, dtype=bool)\n",
    "    \n",
    "    # Set starting points in X0 to 1\n",
    "    for row, col in starting_points:\n",
    "        Xk[row, col] = True\n",
    "    \n",
    "    # Define the structuring element (3x3 array of ones) for dilation\n",
    "    structuring_element = np.ones((3, 3), dtype=bool)\n",
    "    \n",
    "    # Iteratively apply dilation and intersection with the complement of I\n",
    "    for _ in range(num_iterations):\n",
    "        # Dilate Xk\n",
    "        Xk = skimage.morphology.binary_dilation(Xk, structuring_element)\n",
    "        \n",
    "        # Intersect with the complement of the original image\n",
    "        Xk = Xk & complement_im\n",
    "    \n",
    "    # Return the union of the filled holes with the original image\n",
    "    return Xk | im"
   ]
  },
  {
   "cell_type": "code",
   "execution_count": 3,
   "metadata": {},
   "outputs": [
    {
     "name": "stdout",
     "output_type": "stream",
     "text": [
      "Saving image to: image_processed\\cards-filled.png\n"
     ]
    }
   ],
   "source": [
    "if __name__ == \"__main__\":\n",
    "    im = io.imread('images/cards.png', as_gray=True)\n",
    "    binary_image = im != 0\n",
    "    starting_points = [ \n",
    "        # (row, column)\n",
    "        [50, 80],\n",
    "        [275, 80],\n",
    "        [50, 175],\n",
    "        [275, 175],\n",
    "        [50,390],\n",
    "        [275, 390],\n",
    "        [175,650]\n",
    "    ]\n",
    "    num_iterations = 50\n",
    "\n",
    "    result = fill_holes(binary_image, starting_points, num_iterations)\n",
    "\n",
    "    assert im.shape == result.shape, \"Expected image shape ({}) to be same as resulting image shape ({})\".format(\n",
    "            im.shape, result.shape)\n",
    "    assert result.dtype == bool, \"Expected resulting image dtype to be bool. Was: {}\".format(\n",
    "            result.dtype)\n",
    "\n",
    "    result = utils.to_uint8(result)\n",
    "    utils.save_im(\"cards-filled.png\", result)\n"
   ]
  }
 ],
 "metadata": {
  "kernelspec": {
   "display_name": "Python 3",
   "language": "python",
   "name": "python3"
  },
  "language_info": {
   "codemirror_mode": {
    "name": "ipython",
    "version": 3
   },
   "file_extension": ".py",
   "mimetype": "text/x-python",
   "name": "python",
   "nbconvert_exporter": "python",
   "pygments_lexer": "ipython3",
   "version": "3.12.4"
  }
 },
 "nbformat": 4,
 "nbformat_minor": 2
}
