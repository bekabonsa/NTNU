{
 "cells": [
  {
   "cell_type": "code",
   "execution_count": 5,
   "metadata": {},
   "outputs": [],
   "source": [
    "import numpy as np\n",
    "import skimage\n",
    "import utils\n",
    "import pathlib"
   ]
  },
  {
   "cell_type": "code",
   "execution_count": 6,
   "metadata": {},
   "outputs": [],
   "source": [
    "def otsu_thresholding(im: np.ndarray) -> int:\n",
    "    \"\"\"\n",
    "    Computes the Otsu threshold for a given grayscale image.\n",
    "    \n",
    "    Args:\n",
    "        im (np.ndarray): A grayscale image in the range [0, 255] (dtype=np.uint8)\n",
    "        \n",
    "    Returns:\n",
    "        int: The computed threshold value\n",
    "    \"\"\"\n",
    "    assert im.dtype == np.uint8\n",
    "    \n",
    "    # Step 1: Compute normalized histogram\n",
    "    hist = np.bincount(im.ravel(), minlength=256) / im.size\n",
    "    \n",
    "    # Step 2: Compute cumulative sums\n",
    "    cumulative_sum = np.cumsum(hist)\n",
    "    \n",
    "    # Step 3: Compute cumulative means\n",
    "    cumulative_mean = np.cumsum(np.arange(256) * hist)\n",
    "    \n",
    "    # Step 4: Compute global mean\n",
    "    global_mean = cumulative_mean[-1]\n",
    "    \n",
    "    # Step 5: Compute between-class variance for each threshold k\n",
    "    between_class_variance = (global_mean * cumulative_sum - cumulative_mean)**2 / (cumulative_sum * (1 - cumulative_sum))\n",
    "    \n",
    "    # Handle division by zero for any zero entries in cumulative_sum\n",
    "    between_class_variance = np.nan_to_num(between_class_variance)\n",
    "    \n",
    "    # Step 6: Find the threshold k* that maximizes between-class variance\n",
    "    optimal_threshold = np.argmax(between_class_variance)\n",
    "    \n",
    "    return optimal_threshold\n"
   ]
  },
  {
   "cell_type": "code",
   "execution_count": 7,
   "metadata": {},
   "outputs": [
    {
     "name": "stdout",
     "output_type": "stream",
     "text": [
      "Reading image: images\\thumbprint.png\n",
      "Found optimal threshold: 153\n",
      "Saving image to: image_processed\\thumbprint-segmented.png\n",
      "Reading image: images\\rice-shaded.png\n",
      "Found optimal threshold: 134\n",
      "Saving image to: image_processed\\rice-shaded-segmented.png\n"
     ]
    },
    {
     "name": "stderr",
     "output_type": "stream",
     "text": [
      "C:\\Users\\Bex\\AppData\\Local\\Temp\\ipykernel_29952\\2520906564.py:26: RuntimeWarning: invalid value encountered in divide\n",
      "  between_class_variance = (global_mean * cumulative_sum - cumulative_mean)**2 / (cumulative_sum * (1 - cumulative_sum))\n"
     ]
    }
   ],
   "source": [
    "if __name__ == \"__main__\":\n",
    "    # DO NOT CHANGE\n",
    "    impaths_to_segment = [\n",
    "        pathlib.Path(\"thumbprint.png\"),\n",
    "        pathlib.Path(\"rice-shaded.png\")\n",
    "    ]\n",
    "    for impath in impaths_to_segment:\n",
    "        im = utils.read_image(impath)\n",
    "        threshold = otsu_thresholding(im)\n",
    "        print(\"Found optimal threshold:\", threshold)\n",
    "\n",
    "        # Segment the image by threshold\n",
    "        segmented_image = (im >= threshold)\n",
    "        assert im.shape == segmented_image.shape, \"Expected image shape ({}) to be same as thresholded image shape ({})\".format(\n",
    "                im.shape, segmented_image.shape)\n",
    "        assert segmented_image.dtype == bool, \"Expected thresholded image dtype to be bool. Was: {}\".format(\n",
    "                segmented_image.dtype)\n",
    "\n",
    "        segmented_image = utils.to_uint8(segmented_image)\n",
    "\n",
    "        save_path = \"{}-segmented.png\".format(impath.stem)\n",
    "        utils.save_im(save_path, segmented_image)\n",
    "\n",
    "        \n"
   ]
  }
 ],
 "metadata": {
  "kernelspec": {
   "display_name": "Python 3",
   "language": "python",
   "name": "python3"
  },
  "language_info": {
   "codemirror_mode": {
    "name": "ipython",
    "version": 3
   },
   "file_extension": ".py",
   "mimetype": "text/x-python",
   "name": "python",
   "nbconvert_exporter": "python",
   "pygments_lexer": "ipython3",
   "version": "3.12.4"
  }
 },
 "nbformat": 4,
 "nbformat_minor": 2
}
