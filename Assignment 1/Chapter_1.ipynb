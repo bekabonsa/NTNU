{
 "cells": [
  {
   "cell_type": "code",
   "execution_count": null,
   "metadata": {},
   "outputs": [],
   "source": []
  },
  {
   "cell_type": "markdown",
   "metadata": {},
   "source": [
    "# 🌟 Operation NeuroNexus: Outsmarting SkyNet\n",
    "\n",
    "Trondheim lies under the iron grip of SkyNet, an AI system that has seized control of the city's entire digital infrastructure. As the last line of defense against total machine domination, you and your team of elite hackers have been tasked with a crucial mission: infiltrate SkyNet's systems, decode its defenses, and liberate the city from its digital oppressor.\n",
    "\n",
    "## 🎯 Mission Overview\n",
    "\n",
    "Operation NeuroNexus consists of four independent, yet interconnected missions. Each mission targets a different aspect of SkyNet's infrastructure and requires you to apply various Supervised Learning techniques covered in this course. Your objective: outsmart the AI at its own game.\n",
    "\n",
    "## 📊 Mission Structure\n",
    "\n",
    "1. Each mission has a specific task related to combating SkyNet.\n",
    "2. Following the task description, you'll find a set of formal requirements that your solution must meet.\n",
    "3. The primary measure of your success is the accuracy of your machine learning model. In this battle of human vs. AI, performance is key.\n",
    "4. After completing each task, you should answer a series of questions to demonstrate your understanding of the techniques used.\n",
    "\n",
    "## 🧪 A Note on Test Data\n",
    "\n",
    "In a departure from real-world scenarios, you will have access to the target variables of the test sets for each mission. This has been arranged to facilitate the evaluation of your models. However, remember that in actual machine learning projects, test targets are not available, as predicting these is the ultimate goal of your supervised models.\n",
    "\n",
    "## 📝 Submission Guidelines\n",
    "\n",
    "- For each mission, provide your code solution and model results inside this notebook.\n",
    "- Answer the follow-up questions in markdown format within this notebook. A few sentences is enough, no requirements for length of answers.\n",
    "- Ensure your explanations are clear, concise, and demonstrate a deep understanding of the techniques employed.\n",
    "\n",
    "\n",
    "Good luck! The resistance is counting on you."
   ]
  },
  {
   "cell_type": "code",
   "execution_count": 13,
   "metadata": {},
   "outputs": [],
   "source": [
    "import pandas as pd\n",
    "import numpy as np\n",
    "import matplotlib.pyplot as plt"
   ]
  },
  {
   "cell_type": "markdown",
   "metadata": {},
   "source": []
  },
  {
   "cell_type": "markdown",
   "metadata": {},
   "source": [
    "## 🌞 Mission 1: Predicting SkyNet's Power Consumption\n",
    "\n",
    "### 🎯 The Mission\n",
    "Intelligence suggests that SkyNet's central core has a critical weakness: **its power consumption**. We must understand its energy needs to plan a coordinated strike and temporarily disable its defenses.\n",
    "\n",
    "### 🧠 Your Task\n",
    "Develop a predictive model to estimate SkyNet's power consumption based on its **Network Activity**.\n",
    "\n",
    "**Goal**: Implement a **Linear Regression model using Gradient Descent, from scratch**.\n",
    "\n",
    "Use `LinearRegression` class from `linear_regression.py` stored in this folder. Your task is to complete two functions: `fit` (find the optimal parameters of the regression) and `predict` (apply them to the test data).\n",
    "\n",
    "> Note: The `%autoreload` IPython magic command allows instant updates from `linear_regression.py`.\n",
    "\n",
    "### 📊 Formal Requirements\n",
    "1. **Implementation**: \n",
    "   - Use standard Python libraries (numpy, math, pandas, etc.)\n",
    "   - Implement gradient descent\n",
    "\n",
    "2. **Discussion**:\n",
    "\n",
    "   a. Visualize the fitted curve. Derive the resulting Energy consumption formula.\n",
    "   \n",
    "   b. Analyze prediction error distribution. What is an unbiased estimator?\n",
    "\n",
    "---"
   ]
  },
  {
   "cell_type": "code",
   "execution_count": 26,
   "metadata": {},
   "outputs": [
    {
     "name": "stdout",
     "output_type": "stream",
     "text": [
      "The autoreload extension is already loaded. To reload it, use:\n",
      "  %reload_ext autoreload\n"
     ]
    }
   ],
   "source": [
    "%load_ext autoreload\n",
    "%autoreload 2"
   ]
  },
  {
   "cell_type": "code",
   "execution_count": 27,
   "metadata": {},
   "outputs": [],
   "source": [
    "# Import your implementation\n",
    "from linear_regression import LinearRegression # <--- This is your implementation"
   ]
  },
  {
   "cell_type": "code",
   "execution_count": 28,
   "metadata": {},
   "outputs": [
    {
     "data": {
      "image/png": "[encoded data removed]",
      "text/plain": [
       "<Figure size 432x288 with 1 Axes>"
      ]
     },
     "metadata": {
      "needs_background": "light"
     },
     "output_type": "display_data"
    }
   ],
   "source": [
    "# Data\n",
    "data = pd.read_csv('mission1.csv')\n",
    "\n",
    "plt.figure(figsize=(6, 4))\n",
    "plt.scatter(data['Net_Activity'], data['Energy'], c='blue', label='Data points')\n",
    "plt.grid(True)\n",
    "plt.xlabel('Network Activity', fontsize=14)\n",
    "plt.ylabel('Energy', fontsize=14)\n",
    "plt.title('Energy vs. Traffic', fontsize=16)\n",
    "plt.legend()\n",
    "plt.show()"
   ]
  },
  {
   "cell_type": "code",
   "execution_count": 29,
   "metadata": {},
   "outputs": [
    {
     "name": "stdout",
     "output_type": "stream",
     "text": [
      "98.73493590269548\n",
      "29.727959057643307\n"
     ]
    },
    {
     "ename": "NotImplementedError",
     "evalue": "The predict method is not implemented yet.",
     "output_type": "error",
     "traceback": [
      "\u001b[1;31m---------------------------------------------------------------------------\u001b[0m",
      "\u001b[1;31mNotImplementedError\u001b[0m                       Traceback (most recent call last)",
      "\u001b[1;32m<ipython-input-29-82d8537fbc4d>\u001b[0m in \u001b[0;36m<module>\u001b[1;34m\u001b[0m\n\u001b[0;32m      3\u001b[0m \u001b[0mlr\u001b[0m\u001b[1;33m.\u001b[0m\u001b[0mfit\u001b[0m\u001b[1;33m(\u001b[0m\u001b[0mdata\u001b[0m\u001b[1;33m[\u001b[0m\u001b[1;34m'Net_Activity'\u001b[0m\u001b[1;33m]\u001b[0m\u001b[1;33m,\u001b[0m \u001b[0mdata\u001b[0m\u001b[1;33m[\u001b[0m\u001b[1;34m'Energy'\u001b[0m\u001b[1;33m]\u001b[0m\u001b[1;33m)\u001b[0m\u001b[1;33m\u001b[0m\u001b[1;33m\u001b[0m\u001b[0m\n\u001b[0;32m      4\u001b[0m \u001b[1;33m\u001b[0m\u001b[0m\n\u001b[1;32m----> 5\u001b[1;33m \u001b[0mlr\u001b[0m\u001b[1;33m.\u001b[0m\u001b[0mpredict\u001b[0m\u001b[1;33m(\u001b[0m\u001b[0mdata\u001b[0m\u001b[1;33m[\u001b[0m\u001b[1;34m'Net_Activity'\u001b[0m\u001b[1;33m]\u001b[0m\u001b[1;33m)\u001b[0m\u001b[1;33m\u001b[0m\u001b[1;33m\u001b[0m\u001b[0m\n\u001b[0m",
      "\u001b[1;32m~\\OneDrive - NTNU\\NTNU\\Assignment 1\\linear_regression.py\u001b[0m in \u001b[0;36mpredict\u001b[1;34m(self, X)\u001b[0m\n\u001b[0;32m     39\u001b[0m         \"\"\"\n\u001b[0;32m     40\u001b[0m         \u001b[1;31m# TODO: Implement\u001b[0m\u001b[1;33m\u001b[0m\u001b[1;33m\u001b[0m\u001b[1;33m\u001b[0m\u001b[0m\n\u001b[1;32m---> 41\u001b[1;33m         \u001b[1;32mraise\u001b[0m \u001b[0mNotImplementedError\u001b[0m\u001b[1;33m(\u001b[0m\u001b[1;34m\"The predict method is not implemented yet.\"\u001b[0m\u001b[1;33m)\u001b[0m\u001b[1;33m\u001b[0m\u001b[1;33m\u001b[0m\u001b[0m\n\u001b[0m",
      "\u001b[1;31mNotImplementedError\u001b[0m: The predict method is not implemented yet."
     ]
    }
   ],
   "source": [
    "lr = LinearRegression()\n",
    "\n",
    "lr.fit(data['Net_Activity'], data['Energy'])\n",
    "\n",
    "lr.predict(data['Net_Activity'])"
   ]
  },
  {
   "cell_type": "code",
   "execution_count": null,
   "metadata": {},
   "outputs": [],
   "source": []
  },
  {
   "cell_type": "markdown",
   "metadata": {},
   "source": [
    "\n",
    "## 🧠 Mission 2: Decoding SkyNet's Neural Encryption\n",
    "\n",
    "### 🌐 The Discovery\n",
    "SkyNet has evolved, using a \"Synapse Cipher\" that mimics human neural patterns. We've intercepted two types of neural signals that may determine SkyNet's next moves.\n",
    "\n",
    "### 🎯 Your Mission\n",
    "1. Evolve your linear regression into logistic regression\n",
    "2. Engineer features to unravel hidden neural connections\n",
    "3. Predict SkyNet's binary decisions (0 or 1) from paired signals\n",
    "\n",
    "### 📊 Formal Requirements\n",
    "1. **Implementation**: \n",
    "   - Use standard Python libraries\n",
    "   - Implement gradient descent\n",
    "\n",
    "2. **Performance**: Achieve at least 0.88 accuracy on the test set\n",
    "\n",
    "3. **Discussion**:\n",
    "\n",
    "   a. Explain poor initial performance and your improvements\n",
    "\n",
    "   b. What is the model's inductive bias. Why is it important?\n",
    "\n",
    "   c. Try to solve the problem using `sklearn.tree.DecisionTreeClassifier`. Can it solve the problem? Why/Why not?\n",
    "   \n",
    "   d. Plot the ROC curve\n",
    "\n",
    "---"
   ]
  },
  {
   "cell_type": "code",
   "execution_count": 6,
   "metadata": {},
   "outputs": [],
   "source": [
    "data = pd.read_csv('mission2.csv')\n",
    "train = data[data['split'] == 'train']\n",
    "test = data[data['split'] == 'test']"
   ]
  },
  {
   "cell_type": "code",
   "execution_count": null,
   "metadata": {},
   "outputs": [],
   "source": []
  },
  {
   "cell_type": "markdown",
   "metadata": {},
   "source": [
    "\n",
    "## 🌆 Mission 3: CyberGuard\n",
    "\n",
    "### 🌐 The Discovery\n",
    "SkyNet's drone communications use quantum entanglement encryption. We need a rapid response system to intercept these messages.\n",
    "\n",
    "### 🎯 Your Mission\n",
    "Develop a decision tree classifier to process intercepted communications. Use `sklearn.tree.DecisionTreeClassifier`.\n",
    "\n",
    "> \"Every misclassification risks losing a sector of the city to machine control.\"\n",
    "\n",
    "### 🧠 The Challenge\n",
    "1. **Rarity**: Critical communications are only 20% of the data stream\n",
    "2. **Quantum Complexity**: Encryption information is hidden in quantum states\n",
    "\n",
    "### 🚀 Your Tools\n",
    "- Intercepted AI communications dataset\n",
    "- Quantum signature analysis skills\n",
    "- Decision tree algorithm\n",
    "\n",
    "### 📊 Formal Requirements\n",
    "1. **Accuracy**: Achieve ROC AUC >= 0.72 on the test set\n",
    "2. **Discussion**:\n",
    "\n",
    "   a. Explain your threshold-breaking strategy. Did you change the default hyperparameters?\n",
    "\n",
    "   b. Justify ROC AUC usage. Plot and interpret ROC.\n",
    "   \n",
    "   c. Try to solve the problem using sklearn’s Random Forest Classifier. Compare the results.\n",
    "\n",
    "---"
   ]
  },
  {
   "cell_type": "code",
   "execution_count": 7,
   "metadata": {},
   "outputs": [],
   "source": [
    "train = pd.read_csv('mission3_train.csv')\n",
    "test = pd.read_csv('mission3_test.csv')"
   ]
  },
  {
   "cell_type": "code",
   "execution_count": null,
   "metadata": {},
   "outputs": [],
   "source": []
  },
  {
   "cell_type": "markdown",
   "metadata": {},
   "source": [
    "\n",
    "## ⚡ Final Mission: Mapping SkyNet's Energy Nexus\n",
    "\n",
    "### 🌐 The Discovery\n",
    "SkyNet is harvesting energy from Trondheim's buildings. Some structures provide significantly more power than others.\n",
    "\n",
    "### 🎯 Your Mission\n",
    "Predict the \"Nexus Rating\" of unknown buildings in Trondheim (test set).\n",
    "\n",
    "### 🧠 The Challenge\n",
    "1. **Target**: Transform the Nexus Rating to reveal true energy hierarchy\n",
    "2. **Data Quality**: Handle missing values and categorical features\n",
    "3. **Ensembling**: Use advanced models and ensemble learning\n",
    "\n",
    "### 📊 Formal Requirements\n",
    "1. **Performance**: Achieve RMSLE <= 0.294 on the test set\n",
    "2. **Discussion**:\n",
    "\n",
    "   a. Explain your threshold-breaking strategy\n",
    "\n",
    "   b. Justify RMSLE usage. Why do we use this metric? Which loss function did you use?\n",
    "\n",
    "   c. Plot and interpret feature importances\n",
    "\n",
    "   d. Describe your ensembling techniques\n",
    "\n",
    "   e. In real life, you do not have the test targets. How would you make sure your model will work good on the unseen data? \n",
    "\n",
    "---"
   ]
  },
  {
   "cell_type": "code",
   "execution_count": 8,
   "metadata": {},
   "outputs": [],
   "source": [
    "train = pd.read_csv('final_mission_train.csv')\n",
    "test = pd.read_csv('final_mission_test.csv')"
   ]
  },
  {
   "cell_type": "code",
   "execution_count": 9,
   "metadata": {},
   "outputs": [
    {
     "data": {
      "text/plain": [
       "Text(0, 0.5, 'Count')"
      ]
     },
     "execution_count": 9,
     "metadata": {},
     "output_type": "execute_result"
    },
    {
     "data": {
      "image/png": "[encoded data removed]",
      "text/plain": [
       "<Figure size 1000x400 with 1 Axes>"
      ]
     },
     "metadata": {},
     "output_type": "display_data"
    }
   ],
   "source": [
    "fig, ax = plt.subplots(1, 1, figsize=(10, 4))\n",
    "train['nexus_rating'].hist(bins=100, ax=ax, color='blue', alpha=0.5, label='Train Target Distributuon')\n",
    "ax.set_title('Nexus Rating Distribution (Train)', fontsize=16)\n",
    "ax.set_xlabel('Nexus Rating', fontsize=14)\n",
    "ax.set_ylabel('Count', fontsize=14)"
   ]
  },
  {
   "cell_type": "code",
   "execution_count": 10,
   "metadata": {},
   "outputs": [],
   "source": [
    "from sklearn.metrics import mean_squared_log_error\n",
    "\n",
    "def rmsle(y_true, y_pred):\n",
    "    \"\"\" Root Mean Squared Logarithmic Error \"\"\"\n",
    "    return np.sqrt(mean_squared_log_error(y_true, y_pred))"
   ]
  },
  {
   "cell_type": "code",
   "execution_count": 11,
   "metadata": {},
   "outputs": [
    {
     "name": "stdout",
     "output_type": "stream",
     "text": [
      "RMSLE:  4.203250078450383\n",
      "Required RMSLE:  0.294\n"
     ]
    }
   ],
   "source": [
    "#example rmsle check\n",
    "test['pred'] = 0\n",
    "print('RMSLE: ', rmsle(test['nexus_rating'], test['pred']))\n",
    "print('Required RMSLE: ', 0.294)"
   ]
  },
  {
   "cell_type": "code",
   "execution_count": null,
   "metadata": {},
   "outputs": [],
   "source": []
  }
 ],
 "metadata": {
  "kernelspec": {
   "display_name": "Python 3",
   "language": "python",
   "name": "python3"
  },
  "language_info": {
   "codemirror_mode": {
    "name": "ipython",
    "version": 3
   },
   "file_extension": ".py",
   "mimetype": "text/x-python",
   "name": "python",
   "nbconvert_exporter": "python",
   "pygments_lexer": "ipython3",
   "version": "3.8.8"
  }
 },
 "nbformat": 4,
 "nbformat_minor": 2
}
